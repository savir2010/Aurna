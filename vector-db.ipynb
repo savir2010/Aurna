{
 "cells": [
  {
   "cell_type": "code",
   "execution_count": 3,
   "id": "907acd4a-fb1e-4455-9610-9c37e9438038",
   "metadata": {},
   "outputs": [
    {
     "name": "stdout",
     "output_type": "stream",
     "text": [
      "EEG Data Shape: (50,)\n",
      "Labels Shape: (50,)\n",
      "First EEG Sample:\n",
      " [[   0.          -27.34375     -80.078125   -109.86328125]\n",
      " [ -57.12890625  -20.01953125   -5.37109375 -172.36328125]\n",
      " [ -71.2890625   -65.91796875 -193.359375   -177.734375  ]\n",
      " ...\n",
      " [-141.6015625   -26.85546875  528.80859375   -9.27734375]\n",
      " [-141.6015625   -72.265625    414.55078125  -20.5078125 ]\n",
      " [-143.06640625 -147.4609375   269.53125     -33.69140625]]\n",
      "50\n",
      "First Label: 0\n"
     ]
    }
   ],
   "source": [
    "import numpy as np\n",
    "\n",
    "# Load the data\n",
    "eeg_data = np.load(\"muse_eeg_data.npy\", allow_pickle=True)\n",
    "labels = np.load(\"muse_eeg_labels.npy\")\n",
    "\n",
    "# Print shape of the loaded data\n",
    "print(\"EEG Data Shape:\", eeg_data.shape)  # (num_samples, time_steps, 4)\n",
    "print(\"Labels Shape:\", labels.shape)  # (num_samples,)\n",
    "\n",
    "# Print first EEG sample (raw data from 4 channels)\n",
    "print(\"First EEG Sample:\\n\", eeg_data[49])\n",
    "print(eeg_data.shape[0])\n",
    "# Print first label\n",
    "print(\"First Label:\", labels[0])"
   ]
  },
  {
   "cell_type": "code",
   "execution_count": 4,
   "id": "273b0915-2020-4a2d-bb07-515029d31bc3",
   "metadata": {},
   "outputs": [
    {
     "data": {
      "text/plain": [
       "array([-47.851562, -40.039062, -57.617188, ..., -10.253906, -18.066406,\n",
       "       -93.75    ], dtype=float32)"
      ]
     },
     "execution_count": 4,
     "metadata": {},
     "output_type": "execute_result"
    }
   ],
   "source": [
    "flattened_samples = [np.concatenate(sample).astype(np.float32) for sample in eeg_data]\n",
    "flattened_samples[0]"
   ]
  },
  {
   "cell_type": "code",
   "execution_count": 5,
   "id": "91853d8f-3214-423d-9e74-0f9a84c7ccfb",
   "metadata": {},
   "outputs": [
    {
     "name": "stdout",
     "output_type": "stream",
     "text": [
      "Fixed EEG Features Shape: (50, 10272)\n"
     ]
    }
   ],
   "source": [
    "fixed_length = max(len(sample) for sample in flattened_samples)\n",
    "\n",
    "# Function to pad or truncate\n",
    "def pad_or_truncate(sample, length):\n",
    "    if len(sample) < length:\n",
    "        return np.pad(sample, (0, length - len(sample)), mode=\"constant\")\n",
    "    else:\n",
    "        return sample[:length]\n",
    "\n",
    "# Apply padding/truncation\n",
    "eeg_features = np.array([pad_or_truncate(sample, fixed_length) for sample in flattened_samples], dtype=np.float32)\n",
    "\n",
    "print(\"Fixed EEG Features Shape:\", eeg_features.shape)"
   ]
  },
  {
   "cell_type": "code",
   "execution_count": 6,
   "id": "1c3f346d-a958-4e05-b0b8-104f2ff67c06",
   "metadata": {},
   "outputs": [
    {
     "name": "stdout",
     "output_type": "stream",
     "text": [
      "FAISS index successfully created with 50 entries!\n"
     ]
    }
   ],
   "source": [
    "import faiss\n",
    "\n",
    "embedding_dim = eeg_features.shape[1]  # Feature dimension\n",
    "\n",
    "# Create FAISS index\n",
    "index = faiss.IndexFlatL2(embedding_dim)\n",
    "index.add(eeg_features)\n",
    "\n",
    "print(\"FAISS index successfully created with\", index.ntotal, \"entries!\")\n"
   ]
  },
  {
   "cell_type": "code",
   "execution_count": 7,
   "id": "7b69fb57-9f16-44e6-aa5d-5a1aa3bac8e8",
   "metadata": {},
   "outputs": [
    {
     "name": "stdout",
     "output_type": "stream",
     "text": [
      "(2568, 4)\n",
      "Closest Label(s): [2]\n",
      "Distances: [[0.]]\n"
     ]
    }
   ],
   "source": [
    "def find_closest_label(query_sample, top_k=1):\n",
    "    \"\"\"Find the closest EEG vector in FAISS and return its label.\"\"\"\n",
    "    query_sample = np.array(query_sample, dtype=np.float32).reshape(1, -1)  # Ensure correct shape\n",
    "    distances, indices = index.search(query_sample, top_k)  # Find closest match\n",
    "    \n",
    "    closest_labels = [labels[i] for i in indices[0]]  # Get corresponding labels\n",
    "    return closest_labels, distances\n",
    "\n",
    "# Example Query (Use any sample from EEG dataset)\n",
    "query_sample = eeg_data[12]  # Replace with real input\n",
    "print((query_sample.shape))\n",
    "closest_labels, distances = find_closest_label(query_sample)\n",
    "\n",
    "print(\"Closest Label(s):\", closest_labels)\n",
    "print(\"Distances:\", distances)\n"
   ]
  },
  {
   "cell_type": "code",
   "execution_count": 14,
   "id": "a1e3c2b1-5bfe-46cb-b7ac-c109a7b07a17",
   "metadata": {},
   "outputs": [
    {
     "name": "stdout",
     "output_type": "stream",
     "text": [
      "Final EEG Shape: (2568, 4)\n"
     ]
    }
   ],
   "source": [
    "# Load EEG data\n",
    "filename = \"eeg_recording.txt\"\n",
    "eeg_data = np.loadtxt(filename, dtype=np.float32)\n",
    "\n",
    "# Define target shape\n",
    "target_samples = 2568\n",
    "num_channels = 4\n",
    "\n",
    "# Ensure it's a NumPy array\n",
    "eeg_data = np.array(eeg_data, dtype=np.float32)\n",
    "\n",
    "# Handle cases where data is shorter or longer\n",
    "if eeg_data.shape[0] < target_samples:\n",
    "    # Pad with zeros if too short\n",
    "    padding = np.zeros((target_samples - eeg_data.shape[0], num_channels), dtype=np.float32)\n",
    "    eeg_data = np.vstack((eeg_data, padding))\n",
    "elif eeg_data.shape[0] > target_samples:\n",
    "    # Truncate if too long\n",
    "    eeg_data = eeg_data[:target_samples, :]\n",
    "\n",
    "# Check final shape\n",
    "print(\"Final EEG Shape:\", eeg_data.shape)  # Should be (2568, 4)\n"
   ]
  },
  {
   "cell_type": "code",
   "execution_count": 15,
   "id": "f50083be-6616-45ff-a9d0-155ad8e92a3c",
   "metadata": {},
   "outputs": [],
   "source": [
    "THOUGHT_LABELS = [\"dhp\", \"sab\", \"fbh\", \"cfm\", \"null\"]  # Thought categories\n"
   ]
  },
  {
   "cell_type": "code",
   "execution_count": 16,
   "id": "d294ba89-56f8-4b15-ad71-3f2ce37aed64",
   "metadata": {},
   "outputs": [
    {
     "name": "stdout",
     "output_type": "stream",
     "text": [
      "Closest Label(s): cfm\n",
      "Distances: [[4.9611357e+08]]\n"
     ]
    }
   ],
   "source": [
    "closest_labels, distances = find_closest_label(eeg_data)\n",
    "\n",
    "print(\"Closest Label(s):\", THOUGHT_LABELS[closest_labels[0]])\n",
    "print(\"Distances:\", distances)"
   ]
  },
  {
   "cell_type": "code",
   "execution_count": null,
   "id": "57ad00c9-e361-4f75-a0f3-bc7510148d20",
   "metadata": {},
   "outputs": [],
   "source": []
  },
  {
   "cell_type": "code",
   "execution_count": null,
   "id": "2355a3a5-ebf1-4690-8fc6-962c7bda2892",
   "metadata": {},
   "outputs": [],
   "source": []
  }
 ],
 "metadata": {
  "kernelspec": {
   "display_name": "Python 3 (ipykernel)",
   "language": "python",
   "name": "python3"
  },
  "language_info": {
   "codemirror_mode": {
    "name": "ipython",
    "version": 3
   },
   "file_extension": ".py",
   "mimetype": "text/x-python",
   "name": "python",
   "nbconvert_exporter": "python",
   "pygments_lexer": "ipython3",
   "version": "3.12.2"
  }
 },
 "nbformat": 4,
 "nbformat_minor": 5
}
