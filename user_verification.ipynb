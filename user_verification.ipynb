{
 "cells": [
  {
   "cell_type": "code",
   "execution_count": 1,
   "id": "6c57b78d-996d-48c8-a994-a56f201ef445",
   "metadata": {},
   "outputs": [
    {
     "name": "stdout",
     "output_type": "stream",
     "text": [
      "Looking for EEG streams...\n"
     ]
    },
    {
     "name": "stderr",
     "output_type": "stream",
     "text": [
      "2025-03-04 19:03:20.508 (   0.274s) [          7916BB]      netinterfaces.cpp:91    INFO| netif 'lo0' (status: 1, multicast: 32768, broadcast: 0)\n",
      "2025-03-04 19:03:20.508 (   0.274s) [          7916BB]      netinterfaces.cpp:91    INFO| netif 'lo0' (status: 1, multicast: 32768, broadcast: 0)\n",
      "2025-03-04 19:03:20.508 (   0.274s) [          7916BB]      netinterfaces.cpp:102   INFO| \tIPv4 addr: 7f000001\n",
      "2025-03-04 19:03:20.508 (   0.274s) [          7916BB]      netinterfaces.cpp:91    INFO| netif 'lo0' (status: 1, multicast: 32768, broadcast: 0)\n",
      "2025-03-04 19:03:20.508 (   0.274s) [          7916BB]      netinterfaces.cpp:105   INFO| \tIPv6 addr: ::1\n",
      "2025-03-04 19:03:20.508 (   0.274s) [          7916BB]      netinterfaces.cpp:91    INFO| netif 'lo0' (status: 1, multicast: 32768, broadcast: 0)\n",
      "2025-03-04 19:03:20.508 (   0.274s) [          7916BB]      netinterfaces.cpp:105   INFO| \tIPv6 addr: fe80::1%lo0\n",
      "2025-03-04 19:03:20.508 (   0.274s) [          7916BB]      netinterfaces.cpp:91    INFO| netif 'gif0' (status: 0, multicast: 32768, broadcast: 0)\n",
      "2025-03-04 19:03:20.508 (   0.274s) [          7916BB]      netinterfaces.cpp:91    INFO| netif 'stf0' (status: 0, multicast: 0, broadcast: 0)\n",
      "2025-03-04 19:03:20.508 (   0.274s) [          7916BB]      netinterfaces.cpp:91    INFO| netif 'anpi0' (status: 1, multicast: 32768, broadcast: 2)\n",
      "2025-03-04 19:03:20.508 (   0.274s) [          7916BB]      netinterfaces.cpp:91    INFO| netif 'anpi1' (status: 1, multicast: 32768, broadcast: 2)\n",
      "2025-03-04 19:03:20.508 (   0.274s) [          7916BB]      netinterfaces.cpp:91    INFO| netif 'en3' (status: 1, multicast: 32768, broadcast: 2)\n",
      "2025-03-04 19:03:20.508 (   0.274s) [          7916BB]      netinterfaces.cpp:91    INFO| netif 'en4' (status: 1, multicast: 32768, broadcast: 2)\n",
      "2025-03-04 19:03:20.508 (   0.274s) [          7916BB]      netinterfaces.cpp:91    INFO| netif 'en1' (status: 1, multicast: 32768, broadcast: 2)\n",
      "2025-03-04 19:03:20.508 (   0.274s) [          7916BB]      netinterfaces.cpp:91    INFO| netif 'en2' (status: 1, multicast: 32768, broadcast: 2)\n",
      "2025-03-04 19:03:20.508 (   0.274s) [          7916BB]      netinterfaces.cpp:91    INFO| netif 'bridge0' (status: 1, multicast: 32768, broadcast: 2)\n",
      "2025-03-04 19:03:20.508 (   0.274s) [          7916BB]      netinterfaces.cpp:91    INFO| netif 'ap1' (status: 1, multicast: 32768, broadcast: 2)\n",
      "2025-03-04 19:03:20.508 (   0.274s) [          7916BB]      netinterfaces.cpp:91    INFO| netif 'ap1' (status: 1, multicast: 32768, broadcast: 2)\n",
      "2025-03-04 19:03:20.508 (   0.274s) [          7916BB]      netinterfaces.cpp:105   INFO| \tIPv6 addr: fe80::70a6:d8ff:fea8:f65b%ap1\n",
      "2025-03-04 19:03:20.508 (   0.274s) [          7916BB]      netinterfaces.cpp:91    INFO| netif 'en0' (status: 1, multicast: 32768, broadcast: 2)\n",
      "2025-03-04 19:03:20.508 (   0.274s) [          7916BB]      netinterfaces.cpp:91    INFO| netif 'en0' (status: 1, multicast: 32768, broadcast: 2)\n",
      "2025-03-04 19:03:20.508 (   0.274s) [          7916BB]      netinterfaces.cpp:105   INFO| \tIPv6 addr: fe80::1042:b0e8:5d5a:71f1%en0\n",
      "2025-03-04 19:03:20.508 (   0.274s) [          7916BB]      netinterfaces.cpp:91    INFO| netif 'en0' (status: 1, multicast: 32768, broadcast: 2)\n",
      "2025-03-04 19:03:20.508 (   0.274s) [          7916BB]      netinterfaces.cpp:102   INFO| \tIPv4 addr: c0a801cc\n",
      "2025-03-04 19:03:20.508 (   0.274s) [          7916BB]      netinterfaces.cpp:91    INFO| netif 'awdl0' (status: 1, multicast: 32768, broadcast: 2)\n",
      "2025-03-04 19:03:20.508 (   0.274s) [          7916BB]      netinterfaces.cpp:91    INFO| netif 'awdl0' (status: 1, multicast: 32768, broadcast: 2)\n",
      "2025-03-04 19:03:20.508 (   0.274s) [          7916BB]      netinterfaces.cpp:105   INFO| \tIPv6 addr: fe80::e41d:4bff:fe25:e6a3%awdl0\n",
      "2025-03-04 19:03:20.508 (   0.274s) [          7916BB]      netinterfaces.cpp:91    INFO| netif 'llw0' (status: 1, multicast: 32768, broadcast: 2)\n",
      "2025-03-04 19:03:20.508 (   0.274s) [          7916BB]      netinterfaces.cpp:91    INFO| netif 'llw0' (status: 1, multicast: 32768, broadcast: 2)\n",
      "2025-03-04 19:03:20.508 (   0.274s) [          7916BB]      netinterfaces.cpp:105   INFO| \tIPv6 addr: fe80::e41d:4bff:fe25:e6a3%llw0\n",
      "2025-03-04 19:03:20.508 (   0.274s) [          7916BB]      netinterfaces.cpp:91    INFO| netif 'utun0' (status: 1, multicast: 32768, broadcast: 0)\n",
      "2025-03-04 19:03:20.508 (   0.274s) [          7916BB]      netinterfaces.cpp:91    INFO| netif 'utun0' (status: 1, multicast: 32768, broadcast: 0)\n",
      "2025-03-04 19:03:20.509 (   0.274s) [          7916BB]      netinterfaces.cpp:105   INFO| \tIPv6 addr: fe80::f080:cbd0:beb2:86b1%utun0\n",
      "2025-03-04 19:03:20.509 (   0.274s) [          7916BB]      netinterfaces.cpp:91    INFO| netif 'utun1' (status: 1, multicast: 32768, broadcast: 0)\n",
      "2025-03-04 19:03:20.509 (   0.274s) [          7916BB]      netinterfaces.cpp:91    INFO| netif 'utun1' (status: 1, multicast: 32768, broadcast: 0)\n",
      "2025-03-04 19:03:20.509 (   0.274s) [          7916BB]      netinterfaces.cpp:105   INFO| \tIPv6 addr: fe80::ce81:b1c:bd2c:69e%utun1\n",
      "2025-03-04 19:03:20.509 (   0.274s) [          7916BB]      netinterfaces.cpp:91    INFO| netif 'utun2' (status: 1, multicast: 32768, broadcast: 0)\n",
      "2025-03-04 19:03:20.509 (   0.274s) [          7916BB]      netinterfaces.cpp:91    INFO| netif 'utun2' (status: 1, multicast: 32768, broadcast: 0)\n",
      "2025-03-04 19:03:20.509 (   0.275s) [          7916BB]      netinterfaces.cpp:105   INFO| \tIPv6 addr: fe80::dc9e:3ce3:545e:59b3%utun2\n",
      "2025-03-04 19:03:20.509 (   0.275s) [          7916BB]      netinterfaces.cpp:91    INFO| netif 'utun3' (status: 1, multicast: 32768, broadcast: 0)\n",
      "2025-03-04 19:03:20.509 (   0.275s) [          7916BB]      netinterfaces.cpp:91    INFO| netif 'utun3' (status: 1, multicast: 32768, broadcast: 0)\n",
      "2025-03-04 19:03:20.509 (   0.275s) [          7916BB]      netinterfaces.cpp:105   INFO| \tIPv6 addr: fe80::eb05:e009:15c0:913f%utun3\n",
      "2025-03-04 19:03:20.509 (   0.275s) [          7916BB]      netinterfaces.cpp:91    INFO| netif 'utun4' (status: 1, multicast: 32768, broadcast: 0)\n",
      "2025-03-04 19:03:20.509 (   0.275s) [          7916BB]      netinterfaces.cpp:91    INFO| netif 'utun4' (status: 1, multicast: 32768, broadcast: 0)\n",
      "2025-03-04 19:03:20.509 (   0.275s) [          7916BB]      netinterfaces.cpp:105   INFO| \tIPv6 addr: fe80::bb47:6d66:15d7:5abe%utun4\n",
      "2025-03-04 19:03:20.509 (   0.275s) [          7916BB]      netinterfaces.cpp:91    INFO| netif 'utun5' (status: 1, multicast: 32768, broadcast: 0)\n",
      "2025-03-04 19:03:20.509 (   0.275s) [          7916BB]      netinterfaces.cpp:91    INFO| netif 'utun5' (status: 1, multicast: 32768, broadcast: 0)\n",
      "2025-03-04 19:03:20.509 (   0.275s) [          7916BB]      netinterfaces.cpp:105   INFO| \tIPv6 addr: fe80::8274:e767:e1ed:6b30%utun5\n",
      "2025-03-04 19:03:20.509 (   0.275s) [          7916BB]         api_config.cpp:271   INFO| Loaded default config\n",
      "2025-03-04 19:03:20.514 (   0.280s) [          7916BB]             common.cpp:66    INFO| git:v1.16.2-34-g7e61a2ef/branch:master/build:Release/compiler:AppleClang-16.0.0.16000026/link:SHARED\n"
     ]
    }
   ],
   "source": [
    "import numpy as np\n",
    "import pandas as pd\n",
    "from pylsl import StreamInlet, resolve_byprop\n",
    "from scipy.signal import welch\n",
    "from sklearn.svm import SVC\n",
    "from sklearn.model_selection import train_test_split\n",
    "from sklearn.preprocessing import StandardScaler\n",
    "from sklearn.metrics.pairwise import cosine_similarity\n",
    "\n",
    "# Step 1: Connect to Muse LSL Stream\n",
    "print(\"Looking for EEG streams...\")\n",
    "streams = resolve_byprop('type', 'EEG')\n",
    "inlet = StreamInlet(streams[0])"
   ]
  },
  {
   "cell_type": "code",
   "execution_count": 6,
   "id": "db3a1258-5ce9-4585-b25b-5476dd3c3e49",
   "metadata": {},
   "outputs": [
    {
     "name": "stdout",
     "output_type": "stream",
     "text": [
      "Looking for EEG streams...\n",
      "Collecting sample 1/3...\n",
      "Collecting sample 2/3...\n",
      "Collecting sample 3/3...\n",
      "Model trained with multiple samples. Try verifying again.\n"
     ]
    }
   ],
   "source": [
    "import numpy as np\n",
    "import pickle\n",
    "\n",
    "from scipy.signal import welch\n",
    "from sklearn.svm import OneClassSVM\n",
    "from sklearn.preprocessing import StandardScaler\n",
    "print(\"Looking for EEG streams...\")\n",
    "streams = resolve_byprop('type', 'EEG')\n",
    "inlet = StreamInlet(streams[0])\n",
    "\n",
    "def collect_data(duration=10, fs=256, samples=3):  \n",
    "    data = []\n",
    "    for i in range(samples):\n",
    "        print(f\"Collecting sample {i+1}/{samples}...\")\n",
    "        trial = []\n",
    "        for _ in range(duration * fs):\n",
    "            sample, _ = inlet.pull_sample()\n",
    "            trial.append(sample)\n",
    "        data.append(np.array(trial))\n",
    "    return np.array(data)\n",
    "\n",
    "def extract_features(eeg_data, fs=256):\n",
    "    all_features = []\n",
    "    for trial in eeg_data:\n",
    "        features = []\n",
    "        for channel in trial.T:\n",
    "            freqs, psd = welch(channel, fs=fs, nperseg=fs)\n",
    "            features.append(psd[:30])  # First 30 frequency bins\n",
    "        all_features.append(np.concatenate(features))\n",
    "    return np.array(all_features)\n",
    "\n",
    "# Train on multiple samples\n",
    "eeg = collect_data(samples=3)\n",
    "features = extract_features(eeg)\n",
    "\n",
    "scaler = StandardScaler()\n",
    "X = scaler.fit_transform(features)\n",
    "\n",
    "clf = OneClassSVM(nu=0.05, kernel=\"rbf\")  # Reduced sensitivity\n",
    "clf.fit(X)\n",
    "\n",
    "# Save model\n",
    "with open(\"mind_id_model.pkl\", \"wb\") as f:\n",
    "    pickle.dump((clf, scaler), f)\n",
    "\n",
    "print(\"Model trained with multiple samples. Try verifying again.\")\n"
   ]
  },
  {
   "cell_type": "code",
   "execution_count": 2,
   "id": "e7c8424a-d2e3-425d-a1ee-2457c9947bc6",
   "metadata": {},
   "outputs": [
    {
     "name": "stdout",
     "output_type": "stream",
     "text": [
      "Looking for EEG streams...\n",
      "Verifying user...\n",
      "Confidence Score: -0.0556\n",
      "✅ Access Granted: User verified.\n"
     ]
    },
    {
     "name": "stderr",
     "output_type": "stream",
     "text": [
      "2025-03-04 19:30:35.079 (1634.840s) [R_Muse          ]      data_receiver.cpp:344    ERR| Stream transmission broke off (Input stream error.); re-connecting...\n"
     ]
    }
   ],
   "source": [
    "import numpy as np\n",
    "import pickle\n",
    "from pylsl import StreamInlet, resolve_byprop\n",
    "from scipy.signal import welch\n",
    "\n",
    "# Load trained model & scaler\n",
    "with open(\"mind_id_model.pkl\", \"rb\") as f:\n",
    "    clf, scaler = pickle.load(f)\n",
    "\n",
    "# Step 1: Connect to Muse EEG Stream\n",
    "print(\"Looking for EEG streams...\")\n",
    "streams = resolve_byprop('type', 'EEG')\n",
    "inlet = StreamInlet(streams[0])\n",
    "\n",
    "# Step 2: Collect EEG Data\n",
    "def collect_data(duration=10, fs=256):\n",
    "    samples = []\n",
    "    for _ in range(duration * fs):\n",
    "        sample, _ = inlet.pull_sample()\n",
    "        samples.append(sample)\n",
    "    return np.array(samples)\n",
    "\n",
    "# Step 3: Extract Features\n",
    "def extract_features(eeg_data, fs=256):\n",
    "    features = []\n",
    "    for channel in eeg_data.T:\n",
    "        freqs, psd = welch(channel, fs=fs, nperseg=fs)\n",
    "        features.append(psd[:30])  # First 30 frequency bins\n",
    "    return np.concatenate(features)\n",
    "\n",
    "# Step 4: Verify User with Confidence Score\n",
    "def verify_user():\n",
    "    print(\"Verifying user...\")\n",
    "    eeg = collect_data()\n",
    "    features = extract_features(eeg)\n",
    "    features = scaler.transform([features])\n",
    "\n",
    "    score = clf.decision_function(features)[0]  # Confidence score\n",
    "\n",
    "    print(f\"Confidence Score: {score:.4f}\")  # Print the decision score\n",
    "\n",
    "    if score > -0.5:  # Adjust threshold as needed\n",
    "        print(\"✅ Access Granted: User verified.\")\n",
    "    else:\n",
    "        print(\"❌ Access Denied: Unknown User.\")\n",
    "\n",
    "verify_user()\n"
   ]
  },
  {
   "cell_type": "code",
   "execution_count": null,
   "id": "05f5f7fe-12f5-467b-8ce0-55656d2d204c",
   "metadata": {},
   "outputs": [],
   "source": [
    "authenticate_user()"
   ]
  }
 ],
 "metadata": {
  "kernelspec": {
   "display_name": "Python 3 (ipykernel)",
   "language": "python",
   "name": "python3"
  },
  "language_info": {
   "codemirror_mode": {
    "name": "ipython",
    "version": 3
   },
   "file_extension": ".py",
   "mimetype": "text/x-python",
   "name": "python",
   "nbconvert_exporter": "python",
   "pygments_lexer": "ipython3",
   "version": "3.12.2"
  }
 },
 "nbformat": 4,
 "nbformat_minor": 5
}
